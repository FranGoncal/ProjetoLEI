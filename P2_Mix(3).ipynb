{
 "cells": [
  {
   "cell_type": "markdown",
   "metadata": {
    "id": "F4zZfIS-VnvI",
    "jp-MarkdownHeadingCollapsed": true
   },
   "source": [
    "# Setup"
   ]
  },
  {
   "cell_type": "code",
   "execution_count": 1,
   "metadata": {
    "colab": {
     "base_uri": "https://localhost:8080/"
    },
    "id": "ZcH6q5b7B0q_",
    "outputId": "56f58ccb-bcde-4ec5-fd41-64739b7f19a7"
   },
   "outputs": [
    {
     "name": "stdout",
     "output_type": "stream",
     "text": [
      "Requirement already satisfied: lime in c:\\users\\franc\\appdata\\local\\programs\\python\\python312\\lib\\site-packages (0.2.0.1)\n",
      "Requirement already satisfied: matplotlib in c:\\users\\franc\\appdata\\local\\programs\\python\\python312\\lib\\site-packages (from lime) (3.9.2)\n",
      "Requirement already satisfied: numpy in c:\\users\\franc\\appdata\\local\\programs\\python\\python312\\lib\\site-packages (from lime) (1.26.4)\n",
      "Requirement already satisfied: scipy in c:\\users\\franc\\appdata\\local\\programs\\python\\python312\\lib\\site-packages (from lime) (1.14.1)\n",
      "Requirement already satisfied: tqdm in c:\\users\\franc\\appdata\\local\\programs\\python\\python312\\lib\\site-packages (from lime) (4.67.1)\n",
      "Requirement already satisfied: scikit-learn>=0.18 in c:\\users\\franc\\appdata\\local\\programs\\python\\python312\\lib\\site-packages (from lime) (1.5.2)\n",
      "Requirement already satisfied: scikit-image>=0.12 in c:\\users\\franc\\appdata\\local\\programs\\python\\python312\\lib\\site-packages (from lime) (0.25.1)\n",
      "Requirement already satisfied: networkx>=3.0 in c:\\users\\franc\\appdata\\local\\programs\\python\\python312\\lib\\site-packages (from scikit-image>=0.12->lime) (3.3)\n",
      "Requirement already satisfied: pillow>=10.1 in c:\\users\\franc\\appdata\\local\\programs\\python\\python312\\lib\\site-packages (from scikit-image>=0.12->lime) (10.4.0)\n",
      "Requirement already satisfied: imageio!=2.35.0,>=2.33 in c:\\users\\franc\\appdata\\local\\programs\\python\\python312\\lib\\site-packages (from scikit-image>=0.12->lime) (2.37.0)\n",
      "Requirement already satisfied: tifffile>=2022.8.12 in c:\\users\\franc\\appdata\\local\\programs\\python\\python312\\lib\\site-packages (from scikit-image>=0.12->lime) (2025.1.10)\n",
      "Requirement already satisfied: packaging>=21 in c:\\users\\franc\\appdata\\local\\programs\\python\\python312\\lib\\site-packages (from scikit-image>=0.12->lime) (24.1)\n",
      "Requirement already satisfied: lazy-loader>=0.4 in c:\\users\\franc\\appdata\\local\\programs\\python\\python312\\lib\\site-packages (from scikit-image>=0.12->lime) (0.4)\n",
      "Requirement already satisfied: joblib>=1.2.0 in c:\\users\\franc\\appdata\\local\\programs\\python\\python312\\lib\\site-packages (from scikit-learn>=0.18->lime) (1.4.2)\n",
      "Requirement already satisfied: threadpoolctl>=3.1.0 in c:\\users\\franc\\appdata\\local\\programs\\python\\python312\\lib\\site-packages (from scikit-learn>=0.18->lime) (3.5.0)\n",
      "Requirement already satisfied: contourpy>=1.0.1 in c:\\users\\franc\\appdata\\local\\programs\\python\\python312\\lib\\site-packages (from matplotlib->lime) (1.3.0)\n",
      "Requirement already satisfied: cycler>=0.10 in c:\\users\\franc\\appdata\\local\\programs\\python\\python312\\lib\\site-packages (from matplotlib->lime) (0.12.1)\n",
      "Requirement already satisfied: fonttools>=4.22.0 in c:\\users\\franc\\appdata\\local\\programs\\python\\python312\\lib\\site-packages (from matplotlib->lime) (4.54.1)\n",
      "Requirement already satisfied: kiwisolver>=1.3.1 in c:\\users\\franc\\appdata\\local\\programs\\python\\python312\\lib\\site-packages (from matplotlib->lime) (1.4.7)\n",
      "Requirement already satisfied: pyparsing>=2.3.1 in c:\\users\\franc\\appdata\\local\\programs\\python\\python312\\lib\\site-packages (from matplotlib->lime) (3.1.4)\n",
      "Requirement already satisfied: python-dateutil>=2.7 in c:\\users\\franc\\appdata\\local\\programs\\python\\python312\\lib\\site-packages (from matplotlib->lime) (2.9.0.post0)\n",
      "Requirement already satisfied: colorama in c:\\users\\franc\\appdata\\local\\programs\\python\\python312\\lib\\site-packages (from tqdm->lime) (0.4.6)\n",
      "Requirement already satisfied: six>=1.5 in c:\\users\\franc\\appdata\\local\\programs\\python\\python312\\lib\\site-packages (from python-dateutil>=2.7->matplotlib->lime) (1.16.0)\n"
     ]
    }
   ],
   "source": [
    "!pip install lime"
   ]
  },
  {
   "cell_type": "code",
   "execution_count": 2,
   "metadata": {
    "id": "tXoHJWHlVPvH"
   },
   "outputs": [],
   "source": [
    "import numpy as np\n",
    "import pandas as pd\n",
    "from sklearn.preprocessing import StandardScaler\n",
    "from imblearn.under_sampling import RandomUnderSampler\n",
    "from sklearn.model_selection import KFold, cross_validate, StratifiedKFold\n",
    "from sklearn.metrics import accuracy_score, precision_score, f1_score, roc_auc_score, recall_score\n",
    "\n",
    "from xgboost import XGBClassifier\n",
    "from sklearn.ensemble import RandomForestClassifier\n",
    "from sklearn.svm import SVC\n",
    "from sklearn.tree import DecisionTreeClassifier\n",
    "from sklearn.linear_model import LogisticRegression\n",
    "from sklearn.naive_bayes import GaussianNB"
   ]
  },
  {
   "cell_type": "markdown",
   "metadata": {
    "id": "2kzo4-BVVrXQ"
   },
   "source": [
    "# _"
   ]
  },
  {
   "cell_type": "code",
   "execution_count": 3,
   "metadata": {
    "id": "avIndD8GB7dz"
   },
   "outputs": [],
   "source": [
    "numeric_features = [\"MonthlyCharges\", # common1\n",
    "                    #'Age', # common7\n",
    "                    #'TotalCharges', # common4\n",
    "                    #\"Tenure\" # common5\n",
    "                    ]\n",
    "categorical_features = ['ContractType', # common2\n",
    "                        'InternetService' # common3\n",
    "                        ]\n",
    "binary_features = [\"TechSupport\", # common8\n",
    "                  \"Churn\",  # GOAL\n",
    "                  #\"Gender\" # common6\n",
    "                  ]\n",
    "features = numeric_features + categorical_features + binary_features"
   ]
  },
  {
   "cell_type": "code",
   "execution_count": 4,
   "metadata": {
    "id": "lRyuouNOXmeb"
   },
   "outputs": [],
   "source": [
    "df_IBM = pd.read_csv('data/WA_Fn-UseC_-Telco-Customer-Churn.xls')\n",
    "selected_columns = [\n",
    "    'MonthlyCharges',\n",
    "    'Contract',\n",
    "    'InternetService',\n",
    "    'TechSupport',\n",
    "    'Churn'\n",
    "]\n",
    "# Filtrar atributos do dataset\n",
    "df_IBM = df_IBM[selected_columns]\n",
    "df_IBM = df_IBM.rename(columns={'Contract': 'ContractType'})\n",
    "df_IBM['TechSupport'] = df_IBM['TechSupport'].replace('No internet service', 'No')\n",
    "df_IBM['InternetService'] = df_IBM['InternetService'].replace('Fiber optic', 'Fiber Optic')\n",
    "df_IBM['ContractType'] = df_IBM['ContractType'].replace('Month-to-month', 'Month-to-Month')\n",
    "df_IBM['ContractType'] = df_IBM['ContractType'].replace('Two year', 'Two-Year')\n",
    "df_IBM['ContractType'] = df_IBM['ContractType'].replace('One year', 'One-Year')\n",
    "# Tornar em binário os valores categoricos através do one-hot encoding\n",
    "df_IBM = pd.get_dummies(df_IBM, columns=['ContractType', 'InternetService'], drop_first=False, dtype=int)\n",
    "df_IBM = pd.get_dummies(df_IBM, columns=['TechSupport', 'Churn'], drop_first=True, dtype=int)\n",
    "\n",
    "\n",
    "df = pd.read_csv('data/customer_churn_data.csv')\n",
    "selected_columns = [\n",
    "    'MonthlyCharges',\n",
    "    'ContractType',\n",
    "    'InternetService',\n",
    "    'TechSupport',\n",
    "    'Churn'\n",
    "]\n",
    "# Filtrar atributos do dataset\n",
    "df = df[selected_columns]\n",
    "# Substituir os valores NaN por \"Nenhum\"\n",
    "df['InternetService'] = df['InternetService'].fillna('No')\n",
    "# Tornar em binário os valores categoricos através do one-hot encoding\n",
    "df = pd.get_dummies(df, columns=['ContractType', 'InternetService'], drop_first=False, dtype=int)\n",
    "df = pd.get_dummies(df, columns=[\"TechSupport\", \"Churn\"], drop_first=True, dtype=int)\n",
    "\n",
    "\n",
    "# Reordenar o segundo dataset para ter a mesma ordem do primeiro\n",
    "df_IBM = df_IBM[df.columns]\n",
    "# Preparação dos dados no formato de treino\n",
    "X_IBM = df_IBM.drop(columns=['Churn_Yes'])\n",
    "y_IBM = df_IBM['Churn_Yes']\n",
    "# Preparação dos dados no formato de treino\n",
    "X_kaggle = df.drop(columns=['Churn_Yes'])\n",
    "y_kaggle = df['Churn_Yes']\n",
    "# Dataset que junta tudo\n",
    "df = pd.concat([df_IBM,df],axis=0, ignore_index=True)\n",
    "df['Churn_Yes'].value_counts(normalize=True) * 100\n",
    "X = df.drop(columns=['Churn_Yes'])\n",
    "y = df['Churn_Yes']"
   ]
  },
  {
   "cell_type": "markdown",
   "metadata": {
    "id": "XaHfJtAfb-3q"
   },
   "source": [
    "## Cross-validation"
   ]
  },
  {
   "cell_type": "code",
   "execution_count": null,
   "metadata": {
    "colab": {
     "base_uri": "https://localhost:8080/",
     "height": 238
    },
    "id": "Qa73N9YDNNOY",
    "outputId": "8ccf2982-0b18-4c3d-ce7c-2ad2ebe72aff"
   },
   "outputs": [
    {
     "name": "stderr",
     "output_type": "stream",
     "text": [
      "LOO - Ensemble_NB_DT_XGB:   1%|▌                                                     | 90/8043 [00:22<33:45,  3.93it/s]"
     ]
    }
   ],
   "source": [
    "from sklearn.model_selection import LeaveOneOut\n",
    "from tqdm import tqdm\n",
    "\n",
    "from imblearn.combine import SMOTEENN\n",
    "from imblearn.combine import SMOTETomek\n",
    "\n",
    "from sklearn.naive_bayes import GaussianNB\n",
    "from sklearn.tree import DecisionTreeClassifier\n",
    "from xgboost import XGBClassifier\n",
    "from sklearn.ensemble import VotingClassifier\n",
    "from sklearn.experimental import enable_halving_search_cv  # se necessário\n",
    "from sklearn.model_selection import TunedThresholdClassifierCV\n",
    "\n",
    "from sklearn.metrics import f1_score\n",
    "from sklearn.model_selection import train_test_split\n",
    "from sklearn.linear_model import LogisticRegression\n",
    "\n",
    "\n",
    "cv = LeaveOneOut()\n",
    "\n",
    "metrics = ['accuracy', 'f1_weighted', 'precision', 'recall', 'roc_auc']\n",
    "scores = {metric: [] for metric in metrics}\n",
    "\n",
    "\n",
    "ensemble_model = VotingClassifier(\n",
    "    estimators=[\n",
    "        ('NB', GaussianNB()),\n",
    "        ('DT', DecisionTreeClassifier(random_state=42)),\n",
    "        ('XGB', XGBClassifier(random_state=42))\n",
    "    ],\n",
    "    voting='soft'  # Usa as probabilidades\n",
    ")\n",
    "\n",
    "\n",
    "classifiers = {\n",
    "    #\"NB\": GaussianNB(),\n",
    "    #\"LR\": LogisticRegression(random_state=42),\n",
    "    #\"SVM\": SVC(random_state=42, probability=True),\n",
    "    #\"DT\": DecisionTreeClassifier(random_state=42),\n",
    "    #\"RF\": RandomForestClassifier(random_state=42),\n",
    "    #\"XGBoost\": XGBClassifier(random_state=42)\n",
    "    \"Ensemble_NB_DT_XGB\": ensemble_model\n",
    "}\n",
    "\n",
    "\n",
    "results = {}\n",
    "for name, model in classifiers.items():\n",
    "    scores = {metric: [] for metric in metrics}\n",
    "    y_pred = []\n",
    "    y_prob = []\n",
    "    y_true = []\n",
    "    for i, (train_index, test_index) in enumerate(tqdm(cv.split(X), total=len(X), desc=f\"LOO - {name}\")):\n",
    "        X_train, X_test = X.loc[train_index], X.loc[test_index]\n",
    "        y_train, y_test = y.loc[train_index], y.loc[test_index]\n",
    "\n",
    "        scaler = StandardScaler()\n",
    "        X_train[numeric_features] = scaler.fit_transform(X_train[numeric_features])\n",
    "        X_test[numeric_features] = scaler.transform(X_test[numeric_features])\n",
    "\n",
    "        \n",
    "        #resampler = RandomUnderSampler(random_state=42)\n",
    "        #resampler = SMOTEENN(random_state=42\n",
    "        resampler = SMOTETomek(random_state=42)\n",
    "\n",
    "        X_train_balanced, y_train_balanced = resampler.fit_resample(X_train, y_train)\n",
    "        \n",
    "        model.fit(X_train_balanced, y_train_balanced)\n",
    "        \n",
    "        y_true.append(y_test.values[0])\n",
    "        y_pred.append(model.predict(X_test)[0])\n",
    "        y_prob.append(model.predict_proba(X_test)[0, 1])\n",
    "\n",
    "    scores['accuracy'].append(accuracy_score(y_true, y_pred))\n",
    "    scores['f1_weighted'].append(f1_score(y_true, y_pred))\n",
    "    scores['precision'].append(precision_score(y_true, y_pred))\n",
    "    scores['recall'].append(recall_score(y_true, y_pred))\n",
    "    scores['roc_auc'].append(roc_auc_score(y_true, y_prob))\n",
    "\n",
    "    results[name] = {\n",
    "        \"Accuracy Mean\": np.mean(scores['accuracy']),\n",
    "        #\"Accuracy Std\": np.std(scores['accuracy']),\n",
    "        \"F1 Score Mean\": np.mean(scores['f1_weighted']),\n",
    "        #\"F1 Score Std\": np.std(scores['f1_weighted']),\n",
    "        \"Precision Mean\": np.mean(scores['precision']),\n",
    "        #\"Precision Std\": np.std(scores['precision']),\n",
    "        \"Recall Mean\": np.mean(scores['recall']),\n",
    "        #\"Recall Std\": np.std(scores['recall']),\n",
    "        \"AUC Mean\": np.mean(scores['roc_auc']),\n",
    "        #\"AUC Std\": np.std(scores['roc_auc']),\n",
    "    }\n",
    "\n",
    "    \n",
    "    dummy_model = LogisticRegression()\n",
    "    dummy_model.fit(np.array(y_prob).reshape(-1, 1), y_true)\n",
    "    \n",
    "    final_model = TunedThresholdClassifierCV(\n",
    "        estimator=dummy_model,\n",
    "        scoring=make_scorer(f1_score, pos_label=1),\n",
    "        cv=StratifiedKFold(n_splits=5)\n",
    "    )\n",
    "    final_model.fit(np.array(y_prob).reshape(-1, 1), y_true)\n",
    "    final_preds = final_model.predict(np.array(y_prob).reshape(-1, 1))\n",
    "    \n",
    "    # Avaliação final:\n",
    "    print(f\"\\n==== Resultados ajustados para: {name} ====\")\n",
    "    print(\"F1 ajustado:\", f1_score(y_true, final_preds))\n",
    "    print(\"Precision:\", precision_score(y_true, final_preds))\n",
    "    print(\"Recall:\", recall_score(y_true, final_preds))\n",
    "    print(\"ROC AUC:\", roc_auc_score(y_true, y_prob))\n",
    "\n",
    "\n",
    "\n",
    "\n",
    "\n",
    "results_df = pd.DataFrame(results).T\n",
    "results_df = results_df.round(4)\n",
    "results_df\n",
    "\n",
    "\n"
   ]
  }
 ],
 "metadata": {
  "colab": {
   "provenance": []
  },
  "kernelspec": {
   "display_name": "Python 3 (ipykernel)",
   "language": "python",
   "name": "python3"
  },
  "language_info": {
   "codemirror_mode": {
    "name": "ipython",
    "version": 3
   },
   "file_extension": ".py",
   "mimetype": "text/x-python",
   "name": "python",
   "nbconvert_exporter": "python",
   "pygments_lexer": "ipython3",
   "version": "3.12.7"
  }
 },
 "nbformat": 4,
 "nbformat_minor": 4
}
