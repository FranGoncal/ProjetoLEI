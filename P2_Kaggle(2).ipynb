{
 "cells": [
  {
   "cell_type": "markdown",
   "metadata": {
    "id": "F4zZfIS-VnvI"
   },
   "source": [
    "# Setup"
   ]
  },
  {
   "cell_type": "code",
   "execution_count": 18,
   "metadata": {
    "colab": {
     "base_uri": "https://localhost:8080/"
    },
    "id": "ZcH6q5b7B0q_",
    "outputId": "4b52724a-9b99-42b3-d211-e037b7c980a3"
   },
   "outputs": [
    {
     "name": "stdout",
     "output_type": "stream",
     "text": [
      "Requirement already satisfied: lime in c:\\users\\franc\\appdata\\local\\programs\\python\\python312\\lib\\site-packages (0.2.0.1)\n",
      "Requirement already satisfied: matplotlib in c:\\users\\franc\\appdata\\local\\programs\\python\\python312\\lib\\site-packages (from lime) (3.9.2)\n",
      "Requirement already satisfied: numpy in c:\\users\\franc\\appdata\\local\\programs\\python\\python312\\lib\\site-packages (from lime) (1.26.4)\n",
      "Requirement already satisfied: scipy in c:\\users\\franc\\appdata\\local\\programs\\python\\python312\\lib\\site-packages (from lime) (1.14.1)\n",
      "Requirement already satisfied: tqdm in c:\\users\\franc\\appdata\\local\\programs\\python\\python312\\lib\\site-packages (from lime) (4.67.1)\n",
      "Requirement already satisfied: scikit-learn>=0.18 in c:\\users\\franc\\appdata\\local\\programs\\python\\python312\\lib\\site-packages (from lime) (1.5.2)\n",
      "Requirement already satisfied: scikit-image>=0.12 in c:\\users\\franc\\appdata\\local\\programs\\python\\python312\\lib\\site-packages (from lime) (0.25.1)\n",
      "Requirement already satisfied: networkx>=3.0 in c:\\users\\franc\\appdata\\local\\programs\\python\\python312\\lib\\site-packages (from scikit-image>=0.12->lime) (3.3)\n",
      "Requirement already satisfied: pillow>=10.1 in c:\\users\\franc\\appdata\\local\\programs\\python\\python312\\lib\\site-packages (from scikit-image>=0.12->lime) (10.4.0)\n",
      "Requirement already satisfied: imageio!=2.35.0,>=2.33 in c:\\users\\franc\\appdata\\local\\programs\\python\\python312\\lib\\site-packages (from scikit-image>=0.12->lime) (2.37.0)\n",
      "Requirement already satisfied: tifffile>=2022.8.12 in c:\\users\\franc\\appdata\\local\\programs\\python\\python312\\lib\\site-packages (from scikit-image>=0.12->lime) (2025.1.10)\n",
      "Requirement already satisfied: packaging>=21 in c:\\users\\franc\\appdata\\local\\programs\\python\\python312\\lib\\site-packages (from scikit-image>=0.12->lime) (24.1)\n",
      "Requirement already satisfied: lazy-loader>=0.4 in c:\\users\\franc\\appdata\\local\\programs\\python\\python312\\lib\\site-packages (from scikit-image>=0.12->lime) (0.4)\n",
      "Requirement already satisfied: joblib>=1.2.0 in c:\\users\\franc\\appdata\\local\\programs\\python\\python312\\lib\\site-packages (from scikit-learn>=0.18->lime) (1.4.2)\n",
      "Requirement already satisfied: threadpoolctl>=3.1.0 in c:\\users\\franc\\appdata\\local\\programs\\python\\python312\\lib\\site-packages (from scikit-learn>=0.18->lime) (3.5.0)\n",
      "Requirement already satisfied: contourpy>=1.0.1 in c:\\users\\franc\\appdata\\local\\programs\\python\\python312\\lib\\site-packages (from matplotlib->lime) (1.3.0)\n",
      "Requirement already satisfied: cycler>=0.10 in c:\\users\\franc\\appdata\\local\\programs\\python\\python312\\lib\\site-packages (from matplotlib->lime) (0.12.1)\n",
      "Requirement already satisfied: fonttools>=4.22.0 in c:\\users\\franc\\appdata\\local\\programs\\python\\python312\\lib\\site-packages (from matplotlib->lime) (4.54.1)\n",
      "Requirement already satisfied: kiwisolver>=1.3.1 in c:\\users\\franc\\appdata\\local\\programs\\python\\python312\\lib\\site-packages (from matplotlib->lime) (1.4.7)\n",
      "Requirement already satisfied: pyparsing>=2.3.1 in c:\\users\\franc\\appdata\\local\\programs\\python\\python312\\lib\\site-packages (from matplotlib->lime) (3.1.4)\n",
      "Requirement already satisfied: python-dateutil>=2.7 in c:\\users\\franc\\appdata\\local\\programs\\python\\python312\\lib\\site-packages (from matplotlib->lime) (2.9.0.post0)\n",
      "Requirement already satisfied: colorama in c:\\users\\franc\\appdata\\local\\programs\\python\\python312\\lib\\site-packages (from tqdm->lime) (0.4.6)\n",
      "Requirement already satisfied: six>=1.5 in c:\\users\\franc\\appdata\\local\\programs\\python\\python312\\lib\\site-packages (from python-dateutil>=2.7->matplotlib->lime) (1.16.0)\n"
     ]
    },
    {
     "name": "stderr",
     "output_type": "stream",
     "text": [
      "\n",
      "[notice] A new release of pip is available: 25.0.1 -> 25.1\n",
      "[notice] To update, run: python.exe -m pip install --upgrade pip\n"
     ]
    }
   ],
   "source": [
    "!pip install lime"
   ]
  },
  {
   "cell_type": "code",
   "execution_count": 19,
   "metadata": {
    "id": "tXoHJWHlVPvH"
   },
   "outputs": [],
   "source": [
    "import numpy as np\n",
    "import pandas as pd\n",
    "from sklearn.preprocessing import StandardScaler\n",
    "from imblearn.under_sampling import RandomUnderSampler\n",
    "from sklearn.model_selection import KFold, cross_validate, StratifiedKFold\n",
    "from sklearn.metrics import accuracy_score, precision_score, f1_score, roc_auc_score, recall_score\n",
    "\n",
    "from xgboost import XGBClassifier\n",
    "from sklearn.ensemble import RandomForestClassifier\n",
    "from sklearn.svm import SVC\n",
    "from sklearn.tree import DecisionTreeClassifier\n",
    "from sklearn.linear_model import LogisticRegression\n",
    "from sklearn.naive_bayes import GaussianNB"
   ]
  },
  {
   "cell_type": "markdown",
   "metadata": {
    "id": "2kzo4-BVVrXQ"
   },
   "source": [
    "# _"
   ]
  },
  {
   "cell_type": "code",
   "execution_count": 20,
   "metadata": {
    "id": "avIndD8GB7dz"
   },
   "outputs": [],
   "source": [
    "numeric_features = [\"MonthlyCharges\", # common1\n",
    "                    #'Age', # common7\n",
    "                    #'TotalCharges', # common4\n",
    "                    #\"Tenure\" # common5\n",
    "                    ]\n",
    "categorical_features = ['ContractType', # common2\n",
    "                        'InternetService' # common3\n",
    "                        ]\n",
    "binary_features = [\"TechSupport\", # common8\n",
    "                  \"Churn\",  # GOAL\n",
    "                  #\"Gender\" # common6\n",
    "                  ]\n",
    "features = numeric_features + categorical_features + binary_features"
   ]
  },
  {
   "cell_type": "code",
   "execution_count": 21,
   "metadata": {
    "id": "lRyuouNOXmeb"
   },
   "outputs": [],
   "source": [
    "df_IBM = pd.read_csv('data/WA_Fn-UseC_-Telco-Customer-Churn.xls')\n",
    "selected_columns = [\n",
    "    'MonthlyCharges',\n",
    "    'Contract',\n",
    "    'InternetService',\n",
    "    'TechSupport',\n",
    "    'Churn'\n",
    "]\n",
    "# Filtrar atributos do dataset\n",
    "df_IBM = df_IBM[selected_columns]\n",
    "df_IBM = df_IBM.rename(columns={'Contract': 'ContractType'})\n",
    "df_IBM['TechSupport'] = df_IBM['TechSupport'].replace('No internet service', 'No')\n",
    "df_IBM['InternetService'] = df_IBM['InternetService'].replace('Fiber optic', 'Fiber Optic')\n",
    "df_IBM['ContractType'] = df_IBM['ContractType'].replace('Month-to-month', 'Month-to-Month')\n",
    "df_IBM['ContractType'] = df_IBM['ContractType'].replace('Two year', 'Two-Year')\n",
    "df_IBM['ContractType'] = df_IBM['ContractType'].replace('One year', 'One-Year')\n",
    "# Tornar em binário os valores categoricos através do one-hot encoding\n",
    "df_IBM = pd.get_dummies(df_IBM, columns=['ContractType', 'InternetService'], drop_first=False, dtype=int)\n",
    "df_IBM = pd.get_dummies(df_IBM, columns=['TechSupport', 'Churn'], drop_first=True, dtype=int)\n",
    "\n",
    "\n",
    "df = pd.read_csv('data/customer_churn_data.csv')\n",
    "selected_columns = [\n",
    "    'MonthlyCharges',\n",
    "    'ContractType',\n",
    "    'InternetService',\n",
    "    'TechSupport',\n",
    "    'Churn'\n",
    "]\n",
    "# Filtrar atributos do dataset\n",
    "df = df[selected_columns]\n",
    "# Substituir os valores NaN por \"Nenhum\"\n",
    "df['InternetService'] = df['InternetService'].fillna('No')\n",
    "# Tornar em binário os valores categoricos através do one-hot encoding\n",
    "df = pd.get_dummies(df, columns=['ContractType', 'InternetService'], drop_first=False, dtype=int)\n",
    "df = pd.get_dummies(df, columns=[\"TechSupport\", \"Churn\"], drop_first=True, dtype=int)\n",
    "\n",
    "\n",
    "# Reordenar o segundo dataset para ter a mesma ordem do primeiro\n",
    "df_IBM = df_IBM[df.columns]\n",
    "# Preparação dos dados no formato de treino\n",
    "X_IBM = df_IBM.drop(columns=['Churn_Yes'])\n",
    "y_IBM = df_IBM['Churn_Yes']\n",
    "# Preparação dos dados no formato de treino\n",
    "X_kaggle = df.drop(columns=['Churn_Yes'])\n",
    "y_kaggle = df['Churn_Yes']\n",
    "# Dataset que junta tudo\n",
    "df = pd.concat([df_IBM,df],axis=0, ignore_index=True)\n",
    "df['Churn_Yes'].value_counts(normalize=True) * 100\n",
    "X = df.drop(columns=['Churn_Yes'])\n",
    "y = df['Churn_Yes']"
   ]
  },
  {
   "cell_type": "markdown",
   "metadata": {
    "id": "XaHfJtAfb-3q"
   },
   "source": [
    "## Cross-validation"
   ]
  },
  {
   "cell_type": "code",
   "execution_count": 25,
   "metadata": {
    "colab": {
     "base_uri": "https://localhost:8080/",
     "height": 238
    },
    "id": "Qa73N9YDNNOY",
    "outputId": "b0a4944a-9bee-4f0e-e5f8-06a507ce7fd3"
   },
   "outputs": [
    {
     "data": {
      "text/html": [
       "<div>\n",
       "<style scoped>\n",
       "    .dataframe tbody tr th:only-of-type {\n",
       "        vertical-align: middle;\n",
       "    }\n",
       "\n",
       "    .dataframe tbody tr th {\n",
       "        vertical-align: top;\n",
       "    }\n",
       "\n",
       "    .dataframe thead th {\n",
       "        text-align: right;\n",
       "    }\n",
       "</style>\n",
       "<table border=\"1\" class=\"dataframe\">\n",
       "  <thead>\n",
       "    <tr style=\"text-align: right;\">\n",
       "      <th></th>\n",
       "      <th>Accuracy Mean</th>\n",
       "      <th>F1 Score Mean</th>\n",
       "      <th>Precision Mean</th>\n",
       "      <th>Recall Mean</th>\n",
       "      <th>AUC Mean</th>\n",
       "    </tr>\n",
       "  </thead>\n",
       "  <tbody>\n",
       "    <tr>\n",
       "      <th>NB</th>\n",
       "      <td>0.6912</td>\n",
       "      <td>0.6217</td>\n",
       "      <td>0.5352</td>\n",
       "      <td>0.7416</td>\n",
       "      <td>0.7424</td>\n",
       "    </tr>\n",
       "    <tr>\n",
       "      <th>LR</th>\n",
       "      <td>0.6631</td>\n",
       "      <td>0.6002</td>\n",
       "      <td>0.5058</td>\n",
       "      <td>0.7398</td>\n",
       "      <td>0.7531</td>\n",
       "    </tr>\n",
       "    <tr>\n",
       "      <th>SVM</th>\n",
       "      <td>0.7237</td>\n",
       "      <td>0.6609</td>\n",
       "      <td>0.5695</td>\n",
       "      <td>0.7874</td>\n",
       "      <td>0.8024</td>\n",
       "    </tr>\n",
       "    <tr>\n",
       "      <th>DT</th>\n",
       "      <td>0.6796</td>\n",
       "      <td>0.5764</td>\n",
       "      <td>0.5263</td>\n",
       "      <td>0.6370</td>\n",
       "      <td>0.6927</td>\n",
       "    </tr>\n",
       "    <tr>\n",
       "      <th>RF</th>\n",
       "      <td>0.6820</td>\n",
       "      <td>0.6011</td>\n",
       "      <td>0.5265</td>\n",
       "      <td>0.7002</td>\n",
       "      <td>0.7671</td>\n",
       "    </tr>\n",
       "    <tr>\n",
       "      <th>XGBoost</th>\n",
       "      <td>0.7109</td>\n",
       "      <td>0.6412</td>\n",
       "      <td>0.5573</td>\n",
       "      <td>0.7547</td>\n",
       "      <td>0.7981</td>\n",
       "    </tr>\n",
       "  </tbody>\n",
       "</table>\n",
       "</div>"
      ],
      "text/plain": [
       "         Accuracy Mean  F1 Score Mean  Precision Mean  Recall Mean  AUC Mean\n",
       "NB              0.6912         0.6217          0.5352       0.7416    0.7424\n",
       "LR              0.6631         0.6002          0.5058       0.7398    0.7531\n",
       "SVM             0.7237         0.6609          0.5695       0.7874    0.8024\n",
       "DT              0.6796         0.5764          0.5263       0.6370    0.6927\n",
       "RF              0.6820         0.6011          0.5265       0.7002    0.7671\n",
       "XGBoost         0.7109         0.6412          0.5573       0.7547    0.7981"
      ]
     },
     "execution_count": 25,
     "metadata": {},
     "output_type": "execute_result"
    }
   ],
   "source": [
    "cv = StratifiedKFold(n_splits=2, shuffle=True, random_state=42)\n",
    "\n",
    "metrics = ['accuracy', 'f1_weighted', 'precision', 'recall', 'roc_auc']\n",
    "scores = {metric: [] for metric in metrics}\n",
    "\n",
    "classifiers = {\n",
    "    \"NB\": GaussianNB(),\n",
    "    \"LR\": LogisticRegression(random_state=42),\n",
    "    \"SVM\": SVC(random_state=42, probability=True),\n",
    "    \"DT\": DecisionTreeClassifier(random_state=42),\n",
    "    \"RF\": RandomForestClassifier(random_state=42),\n",
    "    \"XGBoost\": XGBClassifier(random_state=42)\n",
    "}\n",
    "\n",
    "results = {}\n",
    "for name, model in classifiers.items():\n",
    "    scores = {metric: [] for metric in metrics}\n",
    "    for train_index, test_index in cv.split(X, y):              # Podes comentar isto e usar as\n",
    "        X_train, X_test = X.loc[train_index], X.loc[test_index] #   linhas de baixo para treinar\n",
    "        y_train, y_test = y.loc[train_index], y.loc[test_index] #   com um e testar com o outro.\n",
    "        # X_train, X_test = X_IBM, X_kaggle\n",
    "        # y_train, y_test = y_IBM, y_kaggle\n",
    "\n",
    "        scaler = StandardScaler()\n",
    "        X_train[numeric_features] = scaler.fit_transform(X_train[numeric_features])\n",
    "        X_test[numeric_features] = scaler.transform(X_test[numeric_features])\n",
    "\n",
    "        resampler = RandomUnderSampler(random_state=42)\n",
    "        X_train_balanced, y_train_balanced = resampler.fit_resample(X_train, y_train)\n",
    "\n",
    "        #X_train_balanced = X_train\n",
    "        #y_train_balanced = y_train\n",
    "\n",
    "        model.fit(X_train_balanced, y_train_balanced)\n",
    "\n",
    "        y_pred = model.predict(X_test)\n",
    "        y_prob = model.predict_proba(X_test)[:, 1]\n",
    "\n",
    "        scores['accuracy'].append(accuracy_score(y_test, y_pred))\n",
    "        scores['f1_weighted'].append(f1_score(y_test, y_pred))\n",
    "        scores['precision'].append(precision_score(y_test, y_pred))\n",
    "        scores['recall'].append(recall_score(y_test, y_pred))\n",
    "        scores['roc_auc'].append(roc_auc_score(y_test, y_prob))\n",
    "\n",
    "    results[name] = {\n",
    "        \"Accuracy Mean\": np.mean(scores['accuracy']),\n",
    "        #\"Accuracy Std\": np.std(scores['accuracy']),\n",
    "        \"F1 Score Mean\": np.mean(scores['f1_weighted']),\n",
    "        #\"F1 Score Std\": np.std(scores['f1_weighted']),\n",
    "        \"Precision Mean\": np.mean(scores['precision']),\n",
    "        #\"Precision Std\": np.std(scores['precision']),\n",
    "        \"Recall Mean\": np.mean(scores['recall']),\n",
    "        #\"Recall Std\": np.std(scores['recall']),\n",
    "        \"AUC Mean\": np.mean(scores['roc_auc']),\n",
    "        #\"AUC Std\": np.std(scores['roc_auc']),\n",
    "    }\n",
    "\n",
    "results_df = pd.DataFrame(results).T\n",
    "results_df = results_df.round(4)\n",
    "results_df"
   ]
  },
  {
   "cell_type": "code",
   "execution_count": 23,
   "metadata": {},
   "outputs": [
    {
     "name": "stdout",
     "output_type": "stream",
     "text": [
      "Modelos e scaler salvos com sucesso.\n"
     ]
    }
   ],
   "source": [
    "import pickle\n",
    "\n",
    "# Normalizar o dataset todo\n",
    "scaler = StandardScaler()\n",
    "X_scaled = X.copy()\n",
    "X_scaled[numeric_features] = scaler.fit_transform(X_scaled[numeric_features])\n",
    "\n",
    "# Balancear\n",
    "resampler = RandomUnderSampler(random_state=42)\n",
    "X_balanced, y_balanced = resampler.fit_resample(X_scaled, y)\n",
    "\n",
    "# Para guardar o scaler também\n",
    "with open('C:/Users/franc/Desktop/git_proj_curso/ProjetoLEI/Website/scalers/scaler.pkl', 'wb') as f:\n",
    "    pickle.dump(scaler, f)\n",
    "\n",
    "# Treinar e guardar os modelos\n",
    "for name, model in classifiers.items():\n",
    "    model.fit(X_balanced, y_balanced)\n",
    "    with open(f'C:/Users/franc/Desktop/git_proj_curso/ProjetoLEI/Website/models/{name}_model.pkl', 'wb') as f:\n",
    "        pickle.dump(model, f)\n",
    "\n",
    "print(\"Modelos e scaler salvos com sucesso.\")"
   ]
  },
  {
   "cell_type": "code",
   "execution_count": 24,
   "metadata": {},
   "outputs": [
    {
     "data": {
      "text/html": [
       "<div>\n",
       "<style scoped>\n",
       "    .dataframe tbody tr th:only-of-type {\n",
       "        vertical-align: middle;\n",
       "    }\n",
       "\n",
       "    .dataframe tbody tr th {\n",
       "        vertical-align: top;\n",
       "    }\n",
       "\n",
       "    .dataframe thead th {\n",
       "        text-align: right;\n",
       "    }\n",
       "</style>\n",
       "<table border=\"1\" class=\"dataframe\">\n",
       "  <thead>\n",
       "    <tr style=\"text-align: right;\">\n",
       "      <th></th>\n",
       "      <th>MonthlyCharges</th>\n",
       "      <th>ContractType_Month-to-Month</th>\n",
       "      <th>ContractType_One-Year</th>\n",
       "      <th>ContractType_Two-Year</th>\n",
       "      <th>InternetService_DSL</th>\n",
       "      <th>InternetService_Fiber Optic</th>\n",
       "      <th>InternetService_No</th>\n",
       "      <th>TechSupport_Yes</th>\n",
       "    </tr>\n",
       "  </thead>\n",
       "  <tbody>\n",
       "    <tr>\n",
       "      <th>563</th>\n",
       "      <td>1.127510</td>\n",
       "      <td>0</td>\n",
       "      <td>0</td>\n",
       "      <td>1</td>\n",
       "      <td>0</td>\n",
       "      <td>1</td>\n",
       "      <td>0</td>\n",
       "      <td>0</td>\n",
       "    </tr>\n",
       "    <tr>\n",
       "      <th>1496</th>\n",
       "      <td>-1.536544</td>\n",
       "      <td>1</td>\n",
       "      <td>0</td>\n",
       "      <td>0</td>\n",
       "      <td>0</td>\n",
       "      <td>0</td>\n",
       "      <td>1</td>\n",
       "      <td>0</td>\n",
       "    </tr>\n",
       "    <tr>\n",
       "      <th>1099</th>\n",
       "      <td>-0.344863</td>\n",
       "      <td>1</td>\n",
       "      <td>0</td>\n",
       "      <td>0</td>\n",
       "      <td>1</td>\n",
       "      <td>0</td>\n",
       "      <td>0</td>\n",
       "      <td>1</td>\n",
       "    </tr>\n",
       "    <tr>\n",
       "      <th>4277</th>\n",
       "      <td>-1.513013</td>\n",
       "      <td>1</td>\n",
       "      <td>0</td>\n",
       "      <td>0</td>\n",
       "      <td>0</td>\n",
       "      <td>0</td>\n",
       "      <td>1</td>\n",
       "      <td>0</td>\n",
       "    </tr>\n",
       "    <tr>\n",
       "      <th>7067</th>\n",
       "      <td>0.450487</td>\n",
       "      <td>0</td>\n",
       "      <td>1</td>\n",
       "      <td>0</td>\n",
       "      <td>1</td>\n",
       "      <td>0</td>\n",
       "      <td>0</td>\n",
       "      <td>1</td>\n",
       "    </tr>\n",
       "  </tbody>\n",
       "</table>\n",
       "</div>"
      ],
      "text/plain": [
       "      MonthlyCharges  ContractType_Month-to-Month  ContractType_One-Year  \\\n",
       "563         1.127510                            0                      0   \n",
       "1496       -1.536544                            1                      0   \n",
       "1099       -0.344863                            1                      0   \n",
       "4277       -1.513013                            1                      0   \n",
       "7067        0.450487                            0                      1   \n",
       "\n",
       "      ContractType_Two-Year  InternetService_DSL  InternetService_Fiber Optic  \\\n",
       "563                       1                    0                            1   \n",
       "1496                      0                    0                            0   \n",
       "1099                      0                    1                            0   \n",
       "4277                      0                    0                            0   \n",
       "7067                      0                    1                            0   \n",
       "\n",
       "      InternetService_No  TechSupport_Yes  \n",
       "563                    0                0  \n",
       "1496                   1                0  \n",
       "1099                   0                1  \n",
       "4277                   1                0  \n",
       "7067                   0                1  "
      ]
     },
     "execution_count": 24,
     "metadata": {},
     "output_type": "execute_result"
    }
   ],
   "source": [
    "X_balanced.head()"
   ]
  }
 ],
 "metadata": {
  "colab": {
   "provenance": []
  },
  "kernelspec": {
   "display_name": "Python 3 (ipykernel)",
   "language": "python",
   "name": "python3"
  },
  "language_info": {
   "codemirror_mode": {
    "name": "ipython",
    "version": 3
   },
   "file_extension": ".py",
   "mimetype": "text/x-python",
   "name": "python",
   "nbconvert_exporter": "python",
   "pygments_lexer": "ipython3",
   "version": "3.12.7"
  }
 },
 "nbformat": 4,
 "nbformat_minor": 4
}
