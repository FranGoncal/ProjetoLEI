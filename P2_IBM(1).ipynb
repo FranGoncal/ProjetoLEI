{
 "cells": [
  {
   "cell_type": "markdown",
   "metadata": {
    "id": "F4zZfIS-VnvI"
   },
   "source": [
    "# Setup"
   ]
  },
  {
   "cell_type": "code",
   "execution_count": 1,
   "metadata": {
    "colab": {
     "base_uri": "https://localhost:8080/"
    },
    "id": "ZcH6q5b7B0q_",
    "outputId": "bdb67921-38f3-4588-d6c1-2d0e0eb6e27c"
   },
   "outputs": [
    {
     "name": "stdout",
     "output_type": "stream",
     "text": [
      "Requirement already satisfied: lime in c:\\users\\franc\\appdata\\local\\programs\\python\\python312\\lib\\site-packages (0.2.0.1)\n",
      "Requirement already satisfied: matplotlib in c:\\users\\franc\\appdata\\local\\programs\\python\\python312\\lib\\site-packages (from lime) (3.9.2)\n",
      "Requirement already satisfied: numpy in c:\\users\\franc\\appdata\\local\\programs\\python\\python312\\lib\\site-packages (from lime) (1.26.4)\n",
      "Requirement already satisfied: scipy in c:\\users\\franc\\appdata\\local\\programs\\python\\python312\\lib\\site-packages (from lime) (1.14.1)\n",
      "Requirement already satisfied: tqdm in c:\\users\\franc\\appdata\\local\\programs\\python\\python312\\lib\\site-packages (from lime) (4.67.1)\n",
      "Requirement already satisfied: scikit-learn>=0.18 in c:\\users\\franc\\appdata\\local\\programs\\python\\python312\\lib\\site-packages (from lime) (1.5.2)\n",
      "Requirement already satisfied: scikit-image>=0.12 in c:\\users\\franc\\appdata\\local\\programs\\python\\python312\\lib\\site-packages (from lime) (0.25.1)\n",
      "Requirement already satisfied: networkx>=3.0 in c:\\users\\franc\\appdata\\local\\programs\\python\\python312\\lib\\site-packages (from scikit-image>=0.12->lime) (3.3)\n",
      "Requirement already satisfied: pillow>=10.1 in c:\\users\\franc\\appdata\\local\\programs\\python\\python312\\lib\\site-packages (from scikit-image>=0.12->lime) (10.4.0)\n",
      "Requirement already satisfied: imageio!=2.35.0,>=2.33 in c:\\users\\franc\\appdata\\local\\programs\\python\\python312\\lib\\site-packages (from scikit-image>=0.12->lime) (2.37.0)\n",
      "Requirement already satisfied: tifffile>=2022.8.12 in c:\\users\\franc\\appdata\\local\\programs\\python\\python312\\lib\\site-packages (from scikit-image>=0.12->lime) (2025.1.10)\n",
      "Requirement already satisfied: packaging>=21 in c:\\users\\franc\\appdata\\local\\programs\\python\\python312\\lib\\site-packages (from scikit-image>=0.12->lime) (24.1)\n",
      "Requirement already satisfied: lazy-loader>=0.4 in c:\\users\\franc\\appdata\\local\\programs\\python\\python312\\lib\\site-packages (from scikit-image>=0.12->lime) (0.4)\n",
      "Requirement already satisfied: joblib>=1.2.0 in c:\\users\\franc\\appdata\\local\\programs\\python\\python312\\lib\\site-packages (from scikit-learn>=0.18->lime) (1.4.2)\n",
      "Requirement already satisfied: threadpoolctl>=3.1.0 in c:\\users\\franc\\appdata\\local\\programs\\python\\python312\\lib\\site-packages (from scikit-learn>=0.18->lime) (3.5.0)\n",
      "Requirement already satisfied: contourpy>=1.0.1 in c:\\users\\franc\\appdata\\local\\programs\\python\\python312\\lib\\site-packages (from matplotlib->lime) (1.3.0)\n",
      "Requirement already satisfied: cycler>=0.10 in c:\\users\\franc\\appdata\\local\\programs\\python\\python312\\lib\\site-packages (from matplotlib->lime) (0.12.1)\n",
      "Requirement already satisfied: fonttools>=4.22.0 in c:\\users\\franc\\appdata\\local\\programs\\python\\python312\\lib\\site-packages (from matplotlib->lime) (4.54.1)\n",
      "Requirement already satisfied: kiwisolver>=1.3.1 in c:\\users\\franc\\appdata\\local\\programs\\python\\python312\\lib\\site-packages (from matplotlib->lime) (1.4.7)\n",
      "Requirement already satisfied: pyparsing>=2.3.1 in c:\\users\\franc\\appdata\\local\\programs\\python\\python312\\lib\\site-packages (from matplotlib->lime) (3.1.4)\n",
      "Requirement already satisfied: python-dateutil>=2.7 in c:\\users\\franc\\appdata\\local\\programs\\python\\python312\\lib\\site-packages (from matplotlib->lime) (2.9.0.post0)\n",
      "Requirement already satisfied: colorama in c:\\users\\franc\\appdata\\local\\programs\\python\\python312\\lib\\site-packages (from tqdm->lime) (0.4.6)\n",
      "Requirement already satisfied: six>=1.5 in c:\\users\\franc\\appdata\\local\\programs\\python\\python312\\lib\\site-packages (from python-dateutil>=2.7->matplotlib->lime) (1.16.0)\n"
     ]
    }
   ],
   "source": [
    "!pip install lime"
   ]
  },
  {
   "cell_type": "code",
   "execution_count": 2,
   "metadata": {
    "id": "tXoHJWHlVPvH"
   },
   "outputs": [],
   "source": [
    "import numpy as np\n",
    "import pandas as pd\n",
    "from sklearn.preprocessing import StandardScaler\n",
    "from imblearn.under_sampling import RandomUnderSampler\n",
    "from sklearn.model_selection import KFold, cross_validate, StratifiedKFold\n",
    "from sklearn.metrics import accuracy_score, precision_score, f1_score, roc_auc_score, recall_score\n",
    "\n",
    "from xgboost import XGBClassifier\n",
    "from sklearn.ensemble import RandomForestClassifier\n",
    "from sklearn.svm import SVC\n",
    "from sklearn.tree import DecisionTreeClassifier\n",
    "from sklearn.linear_model import LogisticRegression\n",
    "from sklearn.naive_bayes import GaussianNB"
   ]
  },
  {
   "cell_type": "markdown",
   "metadata": {
    "id": "2kzo4-BVVrXQ"
   },
   "source": [
    "# _"
   ]
  },
  {
   "cell_type": "code",
   "execution_count": 3,
   "metadata": {
    "id": "NqwUd2REaaop"
   },
   "outputs": [],
   "source": [
    "dataset = \"kaggle\"  # [\"kaggle\", \"ibm\", \"mix\"] # TODO: Implement mix strategy"
   ]
  },
  {
   "cell_type": "markdown",
   "metadata": {
    "id": "SX6VCo7mbzFE"
   },
   "source": [
    "### Data Loading"
   ]
  },
  {
   "cell_type": "code",
   "execution_count": 4,
   "metadata": {
    "id": "avIndD8GB7dz"
   },
   "outputs": [],
   "source": [
    "if dataset == \"kaggle\":\n",
    "  numeric_features = [\"MonthlyCharges\",\n",
    "                      'Age',\n",
    "                      #'TotalCharges',\n",
    "                      #\"Tenure\"\n",
    "                      ]\n",
    "  categorical_features = ['ContractType',\n",
    "                          'InternetService'\n",
    "                          ]\n",
    "  binary_features = [\"TechSupport\",\n",
    "                    \"Churn\",\n",
    "                    #\"Gender\"\n",
    "                    ]\n",
    "  features = numeric_features + categorical_features + binary_features\n",
    "\n",
    "  df = pd.read_csv('data/customer_churn_data.csv', usecols = features)\n",
    "  if 'InternetService' in df.columns:\n",
    "    df['InternetService'] = df['InternetService'].fillna('No')"
   ]
  },
  {
   "cell_type": "code",
   "execution_count": 5,
   "metadata": {
    "id": "lRyuouNOXmeb"
   },
   "outputs": [],
   "source": [
    "if dataset == \"ibm\":\n",
    "  numeric_features = [#'tenure',\n",
    "                      'MonthlyCharges',\n",
    "                      #'TotalCharges'\n",
    "                      ]\n",
    "  categorical_features = ['InternetService',\n",
    "                          'Contract',\n",
    "                          'PaymentMethod'\n",
    "                          ]\n",
    "  binary_features = [#'gender',\n",
    "                    'SeniorCitizen',\n",
    "                    'Partner',\n",
    "                    'Dependents',\n",
    "                    'PhoneService',\n",
    "                    'OnlineSecurity',\n",
    "                    'OnlineBackup',\n",
    "                    'DeviceProtection',\n",
    "                    'TechSupport',\n",
    "                    'PaperlessBilling',\n",
    "                    'StreamingTV',\n",
    "                    'StreamingMovies',\n",
    "                    'Churn',\n",
    "                    'MultipleLines'\n",
    "                    ]\n",
    "  features = numeric_features + categorical_features + binary_features\n",
    "\n",
    "  df = pd.read_csv('data/WA_Fn-UseC_-Telco-Customer-Churn.xls', usecols = features)\n",
    "  if 'MultipleLines' in df.columns:\n",
    "    df['MultipleLines'] = df['MultipleLines'].replace('No phone service', 'No')"
   ]
  },
  {
   "cell_type": "markdown",
   "metadata": {
    "id": "XaHfJtAfb-3q"
   },
   "source": [
    "## Cross-validation"
   ]
  },
  {
   "cell_type": "code",
   "execution_count": 6,
   "metadata": {
    "id": "6ICSF0vICFqc"
   },
   "outputs": [],
   "source": [
    "df = pd.get_dummies(df, columns=categorical_features, drop_first=False, dtype=int)\n",
    "df = pd.get_dummies(df, columns=binary_features, drop_first=True, dtype=int)\n",
    "\n",
    "X = df.drop(columns=['Churn_Yes'])\n",
    "y = df['Churn_Yes']"
   ]
  },
  {
   "cell_type": "code",
   "execution_count": 7,
   "metadata": {
    "colab": {
     "base_uri": "https://localhost:8080/",
     "height": 238
    },
    "id": "Qa73N9YDNNOY",
    "outputId": "57685141-ac64-450e-e8f1-f30e921ddee4"
   },
   "outputs": [
    {
     "data": {
      "text/html": [
       "<div>\n",
       "<style scoped>\n",
       "    .dataframe tbody tr th:only-of-type {\n",
       "        vertical-align: middle;\n",
       "    }\n",
       "\n",
       "    .dataframe tbody tr th {\n",
       "        vertical-align: top;\n",
       "    }\n",
       "\n",
       "    .dataframe thead th {\n",
       "        text-align: right;\n",
       "    }\n",
       "</style>\n",
       "<table border=\"1\" class=\"dataframe\">\n",
       "  <thead>\n",
       "    <tr style=\"text-align: right;\">\n",
       "      <th></th>\n",
       "      <th>Accuracy Mean</th>\n",
       "      <th>F1 Score Mean</th>\n",
       "      <th>Precision Mean</th>\n",
       "      <th>Recall Mean</th>\n",
       "      <th>AUC Mean</th>\n",
       "    </tr>\n",
       "  </thead>\n",
       "  <tbody>\n",
       "    <tr>\n",
       "      <th>NB</th>\n",
       "      <td>0.857</td>\n",
       "      <td>0.9119</td>\n",
       "      <td>1.0000</td>\n",
       "      <td>0.8381</td>\n",
       "      <td>0.9427</td>\n",
       "    </tr>\n",
       "    <tr>\n",
       "      <th>LR</th>\n",
       "      <td>0.851</td>\n",
       "      <td>0.9078</td>\n",
       "      <td>1.0000</td>\n",
       "      <td>0.8313</td>\n",
       "      <td>0.9408</td>\n",
       "    </tr>\n",
       "    <tr>\n",
       "      <th>SVM</th>\n",
       "      <td>0.854</td>\n",
       "      <td>0.9099</td>\n",
       "      <td>1.0000</td>\n",
       "      <td>0.8347</td>\n",
       "      <td>0.9510</td>\n",
       "    </tr>\n",
       "    <tr>\n",
       "      <th>DT</th>\n",
       "      <td>0.883</td>\n",
       "      <td>0.9310</td>\n",
       "      <td>0.9720</td>\n",
       "      <td>0.8936</td>\n",
       "      <td>0.8490</td>\n",
       "    </tr>\n",
       "    <tr>\n",
       "      <th>RF</th>\n",
       "      <td>0.893</td>\n",
       "      <td>0.9360</td>\n",
       "      <td>0.9925</td>\n",
       "      <td>0.8856</td>\n",
       "      <td>0.9333</td>\n",
       "    </tr>\n",
       "    <tr>\n",
       "      <th>XGBoost</th>\n",
       "      <td>0.881</td>\n",
       "      <td>0.9279</td>\n",
       "      <td>0.9947</td>\n",
       "      <td>0.8697</td>\n",
       "      <td>0.9381</td>\n",
       "    </tr>\n",
       "  </tbody>\n",
       "</table>\n",
       "</div>"
      ],
      "text/plain": [
       "         Accuracy Mean  F1 Score Mean  Precision Mean  Recall Mean  AUC Mean\n",
       "NB               0.857         0.9119          1.0000       0.8381    0.9427\n",
       "LR               0.851         0.9078          1.0000       0.8313    0.9408\n",
       "SVM              0.854         0.9099          1.0000       0.8347    0.9510\n",
       "DT               0.883         0.9310          0.9720       0.8936    0.8490\n",
       "RF               0.893         0.9360          0.9925       0.8856    0.9333\n",
       "XGBoost          0.881         0.9279          0.9947       0.8697    0.9381"
      ]
     },
     "execution_count": 7,
     "metadata": {},
     "output_type": "execute_result"
    }
   ],
   "source": [
    "cv = StratifiedKFold(n_splits=2, shuffle=True, random_state=42)\n",
    "\n",
    "metrics = ['accuracy', 'f1_weighted', 'precision', 'recall', 'roc_auc']\n",
    "scores = {metric: [] for metric in metrics}\n",
    "\n",
    "classifiers = {\n",
    "    \"NB\": GaussianNB(),\n",
    "    \"LR\": LogisticRegression(random_state=42),\n",
    "    \"SVM\": SVC(random_state=42, probability=True),\n",
    "    \"DT\": DecisionTreeClassifier(random_state=42),\n",
    "    \"RF\": RandomForestClassifier(random_state=42),\n",
    "    \"XGBoost\": XGBClassifier(random_state=42)\n",
    "}\n",
    "\n",
    "results = {}\n",
    "for name, model in classifiers.items():\n",
    "    scores = {metric: [] for metric in metrics}\n",
    "    for train_index, test_index in cv.split(X, y):\n",
    "        X_train, X_test = X.loc[train_index], X.loc[test_index]\n",
    "        y_train, y_test = y.loc[train_index], y.loc[test_index]\n",
    "\n",
    "        scaler = StandardScaler()\n",
    "        X_train[numeric_features] = scaler.fit_transform(X_train[numeric_features])\n",
    "        X_test[numeric_features] = scaler.transform(X_test[numeric_features])\n",
    "\n",
    "        resampler = RandomUnderSampler(random_state=42)\n",
    "        X_train_balanced, y_train_balanced = resampler.fit_resample(X_train, y_train)\n",
    "\n",
    "        #X_train_balanced = X_train\n",
    "        #y_train_balanced = y_train\n",
    "\n",
    "        model.fit(X_train_balanced, y_train_balanced)\n",
    "\n",
    "        y_pred = model.predict(X_test)\n",
    "        y_prob = model.predict_proba(X_test)[:, 1]\n",
    "\n",
    "        scores['accuracy'].append(accuracy_score(y_test, y_pred))\n",
    "        scores['f1_weighted'].append(f1_score(y_test, y_pred))\n",
    "        scores['precision'].append(precision_score(y_test, y_pred))\n",
    "        scores['recall'].append(recall_score(y_test, y_pred))\n",
    "        scores['roc_auc'].append(roc_auc_score(y_test, y_prob))\n",
    "\n",
    "    results[name] = {\n",
    "        \"Accuracy Mean\": np.mean(scores['accuracy']),\n",
    "        #\"Accuracy Std\": np.std(scores['accuracy']),\n",
    "        \"F1 Score Mean\": np.mean(scores['f1_weighted']),\n",
    "        #\"F1 Score Std\": np.std(scores['f1_weighted']),\n",
    "        \"Precision Mean\": np.mean(scores['precision']),\n",
    "        #\"Precision Std\": np.std(scores['precision']),\n",
    "        \"Recall Mean\": np.mean(scores['recall']),\n",
    "        #\"Recall Std\": np.std(scores['recall']),\n",
    "        \"AUC Mean\": np.mean(scores['roc_auc']),\n",
    "        #\"AUC Std\": np.std(scores['roc_auc']),\n",
    "    }\n",
    "\n",
    "results_df = pd.DataFrame(results).T\n",
    "results_df = results_df.round(4)\n",
    "results_df"
   ]
  },
  {
   "cell_type": "code",
   "execution_count": null,
   "metadata": {},
   "outputs": [],
   "source": []
  },
  {
   "cell_type": "code",
   "execution_count": null,
   "metadata": {},
   "outputs": [],
   "source": []
  }
 ],
 "metadata": {
  "colab": {
   "collapsed_sections": [
    "F4zZfIS-VnvI"
   ],
   "provenance": []
  },
  "kernelspec": {
   "display_name": "Python 3 (ipykernel)",
   "language": "python",
   "name": "python3"
  },
  "language_info": {
   "codemirror_mode": {
    "name": "ipython",
    "version": 3
   },
   "file_extension": ".py",
   "mimetype": "text/x-python",
   "name": "python",
   "nbconvert_exporter": "python",
   "pygments_lexer": "ipython3",
   "version": "3.12.7"
  }
 },
 "nbformat": 4,
 "nbformat_minor": 4
}
